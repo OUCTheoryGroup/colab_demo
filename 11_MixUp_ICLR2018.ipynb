{
  "nbformat": 4,
  "nbformat_minor": 0,
  "metadata": {
    "colab": {
      "name": "11_MixUp_ICLR2018.ipynb",
      "provenance": [],
      "collapsed_sections": [],
      "authorship_tag": "ABX9TyNM5hXbkZ7b+nj7AREV59in",
      "include_colab_link": true
    },
    "kernelspec": {
      "name": "python3",
      "display_name": "Python 3"
    },
    "accelerator": "GPU",
    "widgets": {
      "application/vnd.jupyter.widget-state+json": {
        "b772ed95c563449a8f09184adad4443a": {
          "model_module": "@jupyter-widgets/controls",
          "model_name": "HBoxModel",
          "state": {
            "_view_name": "HBoxView",
            "_dom_classes": [],
            "_model_name": "HBoxModel",
            "_view_module": "@jupyter-widgets/controls",
            "_model_module_version": "1.5.0",
            "_view_count": null,
            "_view_module_version": "1.5.0",
            "box_style": "",
            "layout": "IPY_MODEL_7e6bba6d041442a5b44c4a7c4da5671d",
            "_model_module": "@jupyter-widgets/controls",
            "children": [
              "IPY_MODEL_9161b1ca5cbe46939f8fc3d113705352",
              "IPY_MODEL_b0169333cd3446708dcbf638a7406708"
            ]
          }
        },
        "7e6bba6d041442a5b44c4a7c4da5671d": {
          "model_module": "@jupyter-widgets/base",
          "model_name": "LayoutModel",
          "state": {
            "_view_name": "LayoutView",
            "grid_template_rows": null,
            "right": null,
            "justify_content": null,
            "_view_module": "@jupyter-widgets/base",
            "overflow": null,
            "_model_module_version": "1.2.0",
            "_view_count": null,
            "flex_flow": null,
            "width": null,
            "min_width": null,
            "border": null,
            "align_items": null,
            "bottom": null,
            "_model_module": "@jupyter-widgets/base",
            "top": null,
            "grid_column": null,
            "overflow_y": null,
            "overflow_x": null,
            "grid_auto_flow": null,
            "grid_area": null,
            "grid_template_columns": null,
            "flex": null,
            "_model_name": "LayoutModel",
            "justify_items": null,
            "grid_row": null,
            "max_height": null,
            "align_content": null,
            "visibility": null,
            "align_self": null,
            "height": null,
            "min_height": null,
            "padding": null,
            "grid_auto_rows": null,
            "grid_gap": null,
            "max_width": null,
            "order": null,
            "_view_module_version": "1.2.0",
            "grid_template_areas": null,
            "object_position": null,
            "object_fit": null,
            "grid_auto_columns": null,
            "margin": null,
            "display": null,
            "left": null
          }
        },
        "9161b1ca5cbe46939f8fc3d113705352": {
          "model_module": "@jupyter-widgets/controls",
          "model_name": "FloatProgressModel",
          "state": {
            "_view_name": "ProgressView",
            "style": "IPY_MODEL_04a28a400559460c896ef2f4c8be85ee",
            "_dom_classes": [],
            "description": "",
            "_model_name": "FloatProgressModel",
            "bar_style": "info",
            "max": 1,
            "_view_module": "@jupyter-widgets/controls",
            "_model_module_version": "1.5.0",
            "value": 1,
            "_view_count": null,
            "_view_module_version": "1.5.0",
            "orientation": "horizontal",
            "min": 0,
            "description_tooltip": null,
            "_model_module": "@jupyter-widgets/controls",
            "layout": "IPY_MODEL_f9663ec1c0fb47eea2649e5e2518a4df"
          }
        },
        "b0169333cd3446708dcbf638a7406708": {
          "model_module": "@jupyter-widgets/controls",
          "model_name": "HTMLModel",
          "state": {
            "_view_name": "HTMLView",
            "style": "IPY_MODEL_35857b8752ad4bebaa5768cb2150898f",
            "_dom_classes": [],
            "description": "",
            "_model_name": "HTMLModel",
            "placeholder": "​",
            "_view_module": "@jupyter-widgets/controls",
            "_model_module_version": "1.5.0",
            "value": " 170500096/? [00:20&lt;00:00, 33041325.29it/s]",
            "_view_count": null,
            "_view_module_version": "1.5.0",
            "description_tooltip": null,
            "_model_module": "@jupyter-widgets/controls",
            "layout": "IPY_MODEL_62b425c62e5a438d9d541cc2110f1e9a"
          }
        },
        "04a28a400559460c896ef2f4c8be85ee": {
          "model_module": "@jupyter-widgets/controls",
          "model_name": "ProgressStyleModel",
          "state": {
            "_view_name": "StyleView",
            "_model_name": "ProgressStyleModel",
            "description_width": "initial",
            "_view_module": "@jupyter-widgets/base",
            "_model_module_version": "1.5.0",
            "_view_count": null,
            "_view_module_version": "1.2.0",
            "bar_color": null,
            "_model_module": "@jupyter-widgets/controls"
          }
        },
        "f9663ec1c0fb47eea2649e5e2518a4df": {
          "model_module": "@jupyter-widgets/base",
          "model_name": "LayoutModel",
          "state": {
            "_view_name": "LayoutView",
            "grid_template_rows": null,
            "right": null,
            "justify_content": null,
            "_view_module": "@jupyter-widgets/base",
            "overflow": null,
            "_model_module_version": "1.2.0",
            "_view_count": null,
            "flex_flow": null,
            "width": null,
            "min_width": null,
            "border": null,
            "align_items": null,
            "bottom": null,
            "_model_module": "@jupyter-widgets/base",
            "top": null,
            "grid_column": null,
            "overflow_y": null,
            "overflow_x": null,
            "grid_auto_flow": null,
            "grid_area": null,
            "grid_template_columns": null,
            "flex": null,
            "_model_name": "LayoutModel",
            "justify_items": null,
            "grid_row": null,
            "max_height": null,
            "align_content": null,
            "visibility": null,
            "align_self": null,
            "height": null,
            "min_height": null,
            "padding": null,
            "grid_auto_rows": null,
            "grid_gap": null,
            "max_width": null,
            "order": null,
            "_view_module_version": "1.2.0",
            "grid_template_areas": null,
            "object_position": null,
            "object_fit": null,
            "grid_auto_columns": null,
            "margin": null,
            "display": null,
            "left": null
          }
        },
        "35857b8752ad4bebaa5768cb2150898f": {
          "model_module": "@jupyter-widgets/controls",
          "model_name": "DescriptionStyleModel",
          "state": {
            "_view_name": "StyleView",
            "_model_name": "DescriptionStyleModel",
            "description_width": "",
            "_view_module": "@jupyter-widgets/base",
            "_model_module_version": "1.5.0",
            "_view_count": null,
            "_view_module_version": "1.2.0",
            "_model_module": "@jupyter-widgets/controls"
          }
        },
        "62b425c62e5a438d9d541cc2110f1e9a": {
          "model_module": "@jupyter-widgets/base",
          "model_name": "LayoutModel",
          "state": {
            "_view_name": "LayoutView",
            "grid_template_rows": null,
            "right": null,
            "justify_content": null,
            "_view_module": "@jupyter-widgets/base",
            "overflow": null,
            "_model_module_version": "1.2.0",
            "_view_count": null,
            "flex_flow": null,
            "width": null,
            "min_width": null,
            "border": null,
            "align_items": null,
            "bottom": null,
            "_model_module": "@jupyter-widgets/base",
            "top": null,
            "grid_column": null,
            "overflow_y": null,
            "overflow_x": null,
            "grid_auto_flow": null,
            "grid_area": null,
            "grid_template_columns": null,
            "flex": null,
            "_model_name": "LayoutModel",
            "justify_items": null,
            "grid_row": null,
            "max_height": null,
            "align_content": null,
            "visibility": null,
            "align_self": null,
            "height": null,
            "min_height": null,
            "padding": null,
            "grid_auto_rows": null,
            "grid_gap": null,
            "max_width": null,
            "order": null,
            "_view_module_version": "1.2.0",
            "grid_template_areas": null,
            "object_position": null,
            "object_fit": null,
            "grid_auto_columns": null,
            "margin": null,
            "display": null,
            "left": null
          }
        }
      }
    }
  },
  "cells": [
    {
      "cell_type": "markdown",
      "metadata": {
        "id": "view-in-github",
        "colab_type": "text"
      },
      "source": [
        "<a href=\"https://colab.research.google.com/github/OUCTheoryGroup/colab_demo/blob/master/11_MixUp_ICLR2018.ipynb\" target=\"_parent\"><img src=\"https://colab.research.google.com/assets/colab-badge.svg\" alt=\"Open In Colab\"/></a>"
      ]
    },
    {
      "cell_type": "code",
      "metadata": {
        "id": "HrL50GxCZRXB"
      },
      "source": [
        "import numpy as np\r\n",
        "import torch\r\n",
        "import torch.nn as nn\r\n",
        "import torch.nn.functional as F\r\n",
        "import torch.optim as optim\r\n",
        "import torchvision.transforms as transforms\r\n",
        "import torchvision.datasets as datasets\r\n",
        "from torch.autograd import Variable"
      ],
      "execution_count": 1,
      "outputs": []
    },
    {
      "cell_type": "code",
      "metadata": {
        "id": "ubfP27w0a7qj"
      },
      "source": [
        "# LeNet 模型\r\n",
        "class LeNet(nn.Module):\r\n",
        "    def __init__(self):\r\n",
        "        super(LeNet, self).__init__()\r\n",
        "        self.conv1 = nn.Conv2d(3, 6, 5)\r\n",
        "        self.conv2 = nn.Conv2d(6, 16, 5)\r\n",
        "        self.fc1   = nn.Linear(16*5*5, 120)\r\n",
        "        self.fc2   = nn.Linear(120, 84)\r\n",
        "        self.fc3   = nn.Linear(84, 10)\r\n",
        "\r\n",
        "    def forward(self, x):\r\n",
        "        out = F.relu(self.conv1(x))\r\n",
        "        out = F.max_pool2d(out, 2)\r\n",
        "        out = F.relu(self.conv2(out))\r\n",
        "        out = F.max_pool2d(out, 2)\r\n",
        "        out = out.view(out.size(0), -1)\r\n",
        "        out = F.relu(self.fc1(out))\r\n",
        "        out = F.relu(self.fc2(out))\r\n",
        "        out = self.fc3(out)\r\n",
        "        return out"
      ],
      "execution_count": 2,
      "outputs": []
    },
    {
      "cell_type": "code",
      "metadata": {
        "id": "zoCDBZPPeBhm"
      },
      "source": [
        "def mixup_data(x, y, alpha=1.0):\r\n",
        "    '''Returns mixed inputs, pairs of targets, and lambda'''\r\n",
        "    if alpha > 0:\r\n",
        "        lam = np.random.beta(alpha, alpha)\r\n",
        "    else:\r\n",
        "        lam = 1\r\n",
        "\r\n",
        "    batch_size = x.size()[0]\r\n",
        "    index = torch.randperm(batch_size).cuda()\r\n",
        "\r\n",
        "    mixed_x = lam * x + (1 - lam) * x[index, :]\r\n",
        "    y_a, y_b = y, y[index]\r\n",
        "    return mixed_x, y_a, y_b, lam\r\n",
        "\r\n",
        "def mixup_criterion(criterion, pred, y_a, y_b, lam):\r\n",
        "    return lam * criterion(pred, y_a) + (1 - lam) * criterion(pred, y_b)"
      ],
      "execution_count": 3,
      "outputs": []
    },
    {
      "cell_type": "code",
      "metadata": {
        "colab": {
          "base_uri": "https://localhost:8080/",
          "height": 84,
          "referenced_widgets": [
            "b772ed95c563449a8f09184adad4443a",
            "7e6bba6d041442a5b44c4a7c4da5671d",
            "9161b1ca5cbe46939f8fc3d113705352",
            "b0169333cd3446708dcbf638a7406708",
            "04a28a400559460c896ef2f4c8be85ee",
            "f9663ec1c0fb47eea2649e5e2518a4df",
            "35857b8752ad4bebaa5768cb2150898f",
            "62b425c62e5a438d9d541cc2110f1e9a"
          ]
        },
        "id": "G0TWxD01Znl4",
        "outputId": "496ced7a-a851-458c-b4e1-61ece41ed081"
      },
      "source": [
        "transform_train = transforms.Compose([ transforms.ToTensor(),\r\n",
        "    transforms.Normalize((0.4914, 0.4822, 0.4465), (0.2023, 0.1994, 0.2010))])\r\n",
        "transform_test  = transforms.Compose([ transforms.ToTensor(),\r\n",
        "    transforms.Normalize((0.4914, 0.4822, 0.4465), (0.2023, 0.1994, 0.2010))])\r\n",
        "\r\n",
        "trainset = datasets.CIFAR10(root='./data', train=True, download=True,   transform=transform_train)\r\n",
        "testset  = datasets.CIFAR10(root='./data', train=False, download=False, transform=transform_test)\r\n",
        "\r\n",
        "trainloader = torch.utils.data.DataLoader(trainset, batch_size=64, shuffle=True,  num_workers=2)\r\n",
        "testloader  = torch.utils.data.DataLoader(testset,  batch_size=64, shuffle=False, num_workers=2)"
      ],
      "execution_count": 4,
      "outputs": [
        {
          "output_type": "stream",
          "text": [
            "Downloading https://www.cs.toronto.edu/~kriz/cifar-10-python.tar.gz to ./data/cifar-10-python.tar.gz\n"
          ],
          "name": "stdout"
        },
        {
          "output_type": "display_data",
          "data": {
            "application/vnd.jupyter.widget-view+json": {
              "model_id": "b772ed95c563449a8f09184adad4443a",
              "version_minor": 0,
              "version_major": 2
            },
            "text/plain": [
              "HBox(children=(FloatProgress(value=1.0, bar_style='info', max=1.0), HTML(value='')))"
            ]
          },
          "metadata": {
            "tags": []
          }
        },
        {
          "output_type": "stream",
          "text": [
            "Extracting ./data/cifar-10-python.tar.gz to ./data\n"
          ],
          "name": "stdout"
        }
      ]
    },
    {
      "cell_type": "code",
      "metadata": {
        "id": "7d-qJE2NdfE8"
      },
      "source": [
        "# MixUp的重要参数 alpha\r\n",
        "alpha = 0.5\r\n",
        "\r\n",
        "net = LeNet().cuda()\r\n",
        "criterion = nn.CrossEntropyLoss()\r\n",
        "optimizer = optim.Adam(net.parameters(), lr=0.0001)"
      ],
      "execution_count": 5,
      "outputs": []
    },
    {
      "cell_type": "code",
      "metadata": {
        "colab": {
          "base_uri": "https://localhost:8080/"
        },
        "id": "9D-JWGIKechw",
        "outputId": "69afe199-8d9f-464f-9e1c-bf269d935bc0"
      },
      "source": [
        "# 网络训练\r\n",
        "net.train()\r\n",
        "\r\n",
        "for epoch in range(30):\r\n",
        "    train_loss = 0\r\n",
        "    correct = 0\r\n",
        "    total = 0\r\n",
        "    \r\n",
        "    for batch_idx, (inputs, targets) in enumerate(trainloader):\r\n",
        "        inputs, targets = inputs.cuda(), targets.cuda()\r\n",
        "        inputs, targets_a, targets_b, lam = mixup_data(inputs, targets, alpha)\r\n",
        "        outputs = net(inputs)\r\n",
        "        loss = mixup_criterion(criterion, outputs, targets_a, targets_b, lam)\r\n",
        "        train_loss += loss.data\r\n",
        "        _, predicted = torch.max(outputs.data, 1)\r\n",
        "        total += targets.size(0)\r\n",
        "        correct += (lam * predicted.eq(targets_a.data).cpu().sum().float()\r\n",
        "                    + (1 - lam) * predicted.eq(targets_b.data).cpu().sum().float())\r\n",
        "\r\n",
        "        optimizer.zero_grad()\r\n",
        "        loss.backward()\r\n",
        "        optimizer.step()\r\n",
        "\r\n",
        "    print('Epoch: %d | Loss: %.3f | Acc: %.3f%% (%d/%d)' \r\n",
        "        % (epoch+1, train_loss/(batch_idx+1), 100.*correct/total, correct, total))\r\n",
        "    \r\n",
        "\r\n",
        "\r\n",
        "# 网络测试\r\n",
        "\r\n",
        "net.eval()\r\n",
        "test_loss = 0\r\n",
        "correct = 0\r\n",
        "total = 0\r\n",
        "for batch_idx, (inputs, targets) in enumerate(testloader):\r\n",
        "    inputs, targets = inputs.cuda(), targets.cuda()\r\n",
        "    outputs = net(inputs)\r\n",
        "    loss = criterion(outputs, targets)\r\n",
        "\r\n",
        "    test_loss += loss.data\r\n",
        "    _, predicted = torch.max(outputs.data, 1)\r\n",
        "    total += targets.size(0)\r\n",
        "    correct += predicted.eq(targets.data).cpu().sum()\r\n",
        "\r\n",
        "print(' Test Accuracy: %.3f %%' % (100.*correct/total))"
      ],
      "execution_count": 7,
      "outputs": [
        {
          "output_type": "stream",
          "text": [
            "Epoch: 1 | Loss: 1.645 | Acc: 43.547% (21773/50000)\n",
            "Epoch: 2 | Loss: 1.627 | Acc: 44.433% (22216/50000)\n",
            "Epoch: 3 | Loss: 1.609 | Acc: 45.128% (22563/50000)\n",
            "Epoch: 4 | Loss: 1.590 | Acc: 45.716% (22858/50000)\n",
            "Epoch: 5 | Loss: 1.591 | Acc: 46.050% (23025/50000)\n",
            "Epoch: 6 | Loss: 1.572 | Acc: 46.512% (23255/50000)\n",
            "Epoch: 7 | Loss: 1.568 | Acc: 47.038% (23519/50000)\n",
            "Epoch: 8 | Loss: 1.537 | Acc: 48.195% (24097/50000)\n",
            "Epoch: 9 | Loss: 1.541 | Acc: 48.427% (24213/50000)\n",
            "Epoch: 10 | Loss: 1.531 | Acc: 48.837% (24418/50000)\n",
            "Epoch: 11 | Loss: 1.527 | Acc: 48.919% (24459/50000)\n",
            "Epoch: 12 | Loss: 1.517 | Acc: 49.181% (24590/50000)\n",
            "Epoch: 13 | Loss: 1.519 | Acc: 49.474% (24737/50000)\n",
            "Epoch: 14 | Loss: 1.502 | Acc: 49.934% (24967/50000)\n",
            "Epoch: 15 | Loss: 1.472 | Acc: 51.131% (25565/50000)\n",
            "Epoch: 16 | Loss: 1.474 | Acc: 51.206% (25602/50000)\n",
            "Epoch: 17 | Loss: 1.464 | Acc: 51.350% (25674/50000)\n",
            "Epoch: 18 | Loss: 1.461 | Acc: 51.635% (25817/50000)\n",
            "Epoch: 19 | Loss: 1.450 | Acc: 52.072% (26036/50000)\n",
            "Epoch: 20 | Loss: 1.442 | Acc: 52.426% (26213/50000)\n",
            "Epoch: 21 | Loss: 1.458 | Acc: 51.983% (25991/50000)\n",
            "Epoch: 22 | Loss: 1.432 | Acc: 53.137% (26568/50000)\n",
            "Epoch: 23 | Loss: 1.425 | Acc: 53.307% (26653/50000)\n",
            "Epoch: 24 | Loss: 1.425 | Acc: 53.065% (26532/50000)\n",
            "Epoch: 25 | Loss: 1.415 | Acc: 53.655% (26827/50000)\n",
            "Epoch: 26 | Loss: 1.413 | Acc: 53.775% (26887/50000)\n",
            "Epoch: 27 | Loss: 1.416 | Acc: 53.749% (26874/50000)\n",
            "Epoch: 28 | Loss: 1.408 | Acc: 54.044% (27021/50000)\n",
            "Epoch: 29 | Loss: 1.422 | Acc: 53.723% (26861/50000)\n",
            "Epoch: 30 | Loss: 1.401 | Acc: 54.335% (27167/50000)\n",
            " Test Accuracy: 62.060 %\n"
          ],
          "name": "stdout"
        }
      ]
    }
  ]
}